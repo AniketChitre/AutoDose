{
 "cells": [
  {
   "cell_type": "markdown",
   "id": "33ccfbc7",
   "metadata": {},
   "source": [
    "### 0. Import Packages"
   ]
  },
  {
   "cell_type": "code",
   "execution_count": 1,
   "id": "19bf18d9",
   "metadata": {},
   "outputs": [],
   "source": [
    "import time\n",
    "import serial\n",
    "import numpy as np\n",
    "import matplotlib.pyplot as plt\n",
    "plt.rcParams['figure.dpi'] = 300"
   ]
  },
  {
   "cell_type": "markdown",
   "id": "6e814e13",
   "metadata": {},
   "source": [
    "### 1. Declare COM ports for Serial Communication (RS-232)\n",
    "\n",
    "* **Balance:** Mettler Toledo MR3002\n",
    "* **Pump**: Ismatec Reglo ICC 4-channel, 8-roller peristaltic pump"
   ]
  },
  {
   "cell_type": "code",
   "execution_count": 2,
   "id": "96fffeff",
   "metadata": {},
   "outputs": [],
   "source": [
    "balance_port = 'COM8'\n",
    "pump_port = 'COM9'"
   ]
  },
  {
   "cell_type": "markdown",
   "id": "6830d372",
   "metadata": {},
   "source": [
    "### 2. Balance Control"
   ]
  },
  {
   "cell_type": "code",
   "execution_count": 3,
   "id": "d174a226",
   "metadata": {},
   "outputs": [],
   "source": [
    "def get_mass(port):\n",
    "    try:\n",
    "        balance = serial.Serial(port, 9600, xonxoff=True) # check COM port and xonxoff (handshake) = True default for MT balance\n",
    "        balance.write('SI\\r\\n'.encode('utf-8')) # sent immediate weight vs. 'S\\r\\n' send stable weight only\n",
    "        time.sleep(0.4) # sleep for 0.4 seconds - time between writing and reading from balance\n",
    "        result  = balance.read_until('\\r\\n'.encode('utf-8')) # read until <CR><LF>, i.e., full response\n",
    "        value = str(result[7:14].decode(\"utf-8\")) # strip numerical result from raw output\n",
    "        balance.close()\n",
    "        if (value.strip() != '-------') and (value.strip() != ''):\n",
    "            return (True,float(value)) # return a status T vs. F, in addition to the mass reading - useful for future steps (data logging)\n",
    "        return (False,-1)\n",
    "    except:\n",
    "        return (False,-1)"
   ]
  },
  {
   "cell_type": "markdown",
   "id": "fa8aea30",
   "metadata": {},
   "source": [
    "### 3. Pump Control"
   ]
  },
  {
   "cell_type": "code",
   "execution_count": 4,
   "id": "5dd12b63",
   "metadata": {},
   "outputs": [],
   "source": [
    "from PeriPump import RegloICC\n",
    "pump = RegloICC(pump_port) # initialise pump "
   ]
  },
  {
   "cell_type": "markdown",
   "id": "4e423348",
   "metadata": {},
   "source": [
    "The available functions from the pump class are `start_channel`, `stop_channel`, `set_direction`, `get_direction`, `set_speed`, `get_speed`, `set_mode` ,`get_mode`."
   ]
  },
  {
   "cell_type": "code",
   "execution_count": 5,
   "id": "a0d163e4",
   "metadata": {},
   "outputs": [],
   "source": [
    "# Example pump commands\n",
    "\n",
    "# ### Set the rotation direction of channel 3 to clockwise\n",
    "# pump.set_direction(3, 0)\n",
    "\n",
    "# ### Get the rotation direction of channel 3\n",
    "# print(pump.get_direction(3))\n",
    "\n",
    "# ### Set the operational mode of channel 3 to RPM\n",
    "# pump.set_mode(3, 0)\n",
    "\n",
    "# ### Get the current operational mode of channel 3\n",
    "# print(pump.get_mode(3))\n",
    "\n",
    "\n",
    "# ### Get the current speed setting of channel 3\n",
    "# print(pump.get_speed(3))\n",
    "\n",
    "### Set the independent channel speeds\n",
    "# pump.set_speed(1, 50)\n",
    "# pump.set_speed(2, 100) # max speed 100 RPM\n",
    "# pump.set_speed(3, 100) # max speed 100 RPM\n",
    "# pump.set_speed(4, 50)\n",
    "\n",
    "# pump.start_channel(1)\n",
    "# pump.start_channel(2)\n",
    "# pump.start_channel(3)\n",
    "# pump.start_channel(4)\n",
    "\n",
    "# ### Stop channel 3\n",
    "# pump.stop_channel(4)\n",
    "\n",
    "# ### Delete the pump object\n",
    "# del pump"
   ]
  },
  {
   "cell_type": "markdown",
   "id": "86338572",
   "metadata": {},
   "source": [
    "### 4. AutoDose Programme"
   ]
  },
  {
   "cell_type": "code",
   "execution_count": 6,
   "id": "dbb8fb98",
   "metadata": {},
   "outputs": [],
   "source": [
    "# Map ingredients to pump channels\n",
    "\n",
    "pump_dict = {'SLES70':1,\n",
    "            'CAPB': 2, \n",
    "            'Water': 3,\n",
    "            'SLES25':4}"
   ]
  },
  {
   "cell_type": "code",
   "execution_count": 8,
   "id": "6b75e535",
   "metadata": {},
   "outputs": [],
   "source": [
    "def dose_ingredient(ing, amt, balance_port, pump_speed=100):\n",
    "    '''\n",
    "    ing: ingredient name (should match in pump_dict)\n",
    "    amt: mass to be dosed (g)\n",
    "    balance_port: serial connection to mass balance (COM #)\n",
    "    pump_speed: set in RPM NB. 100 RPM = max, set at max, opt. argument\n",
    "    '''\n",
    "    t = [0]  # time \n",
    "    m = [get_mass(balance_port)[1]] # mass - initialise with initial mass\n",
    "    # NB. get_mass returns tuple (STATUS, MASS), therefore, [1] to access mass value.\n",
    "\n",
    "    i = 0 # initialise counter\n",
    "\n",
    "    channel = pump_dict[ing]\n",
    "    pump.set_speed(channel, pump_speed) # max speed = 100 RPM\n",
    "\n",
    "    while m[-1] < m[0] + amt:\n",
    "\n",
    "        # Turn on and keep the pump going till the target amount is reached.\n",
    "        \n",
    "        pump.start_channel(channel)\n",
    "\n",
    "        status, val = get_mass(balance_port)\n",
    "        if status:\n",
    "            curr_val = val\n",
    "        else:\n",
    "            curr_val = m[-1] \n",
    "        m.append(curr_val)\n",
    "\n",
    "        i += 1\n",
    "        t.append(i*0.5) # 0.4 s sleep time between reading & writing to balance + 0.1 s execution lag\n",
    "        # NB. Therefore, mass is recorded every 0.5 seconds.\n",
    "\n",
    "    pump.stop_channel(channel)\n",
    "\n",
    "    disp_m = m[-1] - m[0]\n",
    "    acc = np.round((np.absolute(disp_m - amt)/amt)*100,2) # accuracy\n",
    "\n",
    "    return np.round(disp_m,2), acc, m, t"
   ]
  },
  {
   "cell_type": "markdown",
   "id": "31cdb40b",
   "metadata": {},
   "source": [
    "#### Single dosing"
   ]
  },
  {
   "cell_type": "code",
   "execution_count": 9,
   "id": "55dc1a41",
   "metadata": {},
   "outputs": [
    {
     "name": "stdout",
     "output_type": "stream",
     "text": [
      "10.08 0.8\n"
     ]
    }
   ],
   "source": [
    "disp_m, acc, m, t = dose_ingredient('Water', 10, balance_port)\n",
    "print(disp_m, acc)"
   ]
  },
  {
   "cell_type": "markdown",
   "id": "d9c09071",
   "metadata": {},
   "source": [
    "#### Multiple dosing"
   ]
  },
  {
   "cell_type": "code",
   "execution_count": null,
   "id": "262392ae",
   "metadata": {},
   "outputs": [],
   "source": [
    "# sles_results = [] \n",
    "\n",
    "# water_doses = [2, 3, 5, 8, 13, 21, 34, 55, 89, 144]\n",
    "# sles_doses = [3, 6, 10]\n",
    "\n",
    "# for i in sles_doses:\n",
    "#     result = dose_ingredient('SLES25', i, balance_port)\n",
    "#     sles_results.append(result)"
   ]
  },
  {
   "cell_type": "markdown",
   "id": "c18b9f89",
   "metadata": {},
   "source": [
    "### 5. Results & Analysis"
   ]
  },
  {
   "cell_type": "code",
   "execution_count": null,
   "id": "fa6aaadd",
   "metadata": {},
   "outputs": [
    {
     "name": "stdout",
     "output_type": "stream",
     "text": [
      "0.44\n",
      "22.03\n"
     ]
    }
   ],
   "source": [
    "# water_results = results\n",
    "\n",
    "# water_accuracy = []\n",
    "# water_flowrate = []\n",
    "\n",
    "# doses = len(water_results)\n",
    "\n",
    "# for i in range(doses):\n",
    "#     water_accuracy.append(float(water_results[i][1]))\n",
    "#     time = water_results[i][3][-1] - water_results[i][3][0] # s\n",
    "#     mass = water_results[i][2][-1] - water_results[i][2][0] # g \n",
    "#     water_flowrate.append((mass/time)*60) # g/min\n",
    "\n",
    "# print(np.round(np.mean(water_accuracy),2))\n",
    "# print(np.round(np.mean(water_flowrate),2))"
   ]
  },
  {
   "cell_type": "code",
   "execution_count": null,
   "id": "b1f21715",
   "metadata": {},
   "outputs": [
    {
     "name": "stdout",
     "output_type": "stream",
     "text": [
      "1.55\n",
      "16.75\n"
     ]
    }
   ],
   "source": [
    "# sles_accuracy = []\n",
    "# sles_flowrate = []\n",
    "\n",
    "# doses = len(sles_results)\n",
    "\n",
    "# for i in range(doses):\n",
    "#     sles_accuracy.append(float(sles_results[i][1]))\n",
    "#     time = sles_results[i][3][-1] - sles_results[i][3][0] # s\n",
    "#     mass = sles_results[i][2][-1] - sles_results[i][2][0] # g \n",
    "#     sles_flowrate.append((mass/time)*60) # g/min\n",
    "\n",
    "# print(np.round(np.mean(sles_accuracy),2))\n",
    "# print(np.round(np.mean(sles_flowrate),2))"
   ]
  },
  {
   "cell_type": "code",
   "execution_count": 12,
   "id": "eb02bf68",
   "metadata": {},
   "outputs": [],
   "source": [
    "# plt.boxplot(water_accuracy);\n",
    "# plt.title('AutoDose - 2 - 150 g');\n",
    "# plt.xticks([1], ['Water']);\n",
    "# plt.ylabel('Dosing error (%)');\n"
   ]
  },
  {
   "cell_type": "code",
   "execution_count": null,
   "id": "7bf17c0f",
   "metadata": {},
   "outputs": [],
   "source": [
    "# plt.plot(water_results[-1][3], water_results[-1][2]);\n",
    "# plt.xlabel('Time/s');\n",
    "# plt.ylabel('Mass/g');\n",
    "# plt.title('AutoDose - Water');"
   ]
  },
  {
   "cell_type": "markdown",
   "id": "51118bef",
   "metadata": {},
   "source": [
    "#### Limitations\n",
    "\n",
    "* Speed/time to dispense (viscous) ingredients.\n",
    "* Cleaning of lines - recommend not changing lines on core viscous materials or replacing tubing as required.\n",
    "* Independent channels allows for accuracy (vs. closed-system, e.g., UoS) but speed is comprimised and we cannot operate the channels simultaneously because then we would not be able to measure the individual masses of ingredients added."
   ]
  },
  {
   "cell_type": "markdown",
   "id": "d79f5e64",
   "metadata": {},
   "source": []
  }
 ],
 "metadata": {
  "kernelspec": {
   "display_name": "Python 3",
   "language": "python",
   "name": "python3"
  },
  "language_info": {
   "codemirror_mode": {
    "name": "ipython",
    "version": 3
   },
   "file_extension": ".py",
   "mimetype": "text/x-python",
   "name": "python",
   "nbconvert_exporter": "python",
   "pygments_lexer": "ipython3",
   "version": "3.13.2"
  }
 },
 "nbformat": 4,
 "nbformat_minor": 5
}
