{
 "cells": [
  {
   "cell_type": "markdown",
   "id": "33ccfbc7",
   "metadata": {},
   "source": [
    "### 0. Import Packages"
   ]
  },
  {
   "cell_type": "code",
   "execution_count": 1,
   "id": "19bf18d9",
   "metadata": {},
   "outputs": [],
   "source": [
    "import time\n",
    "import serial\n",
    "import pandas as pd\n",
    "import numpy as np\n",
    "import matplotlib.pyplot as plt"
   ]
  },
  {
   "cell_type": "markdown",
   "id": "6e814e13",
   "metadata": {},
   "source": [
    "### 1. Declare COM ports for Serial Communication (RS-232)\n",
    "\n",
    "* **Balance:** Mettler Toledo MR3002\n",
    "* **Pump**: Ismatec Reglo ICC 4-channel, 8-roller peristaltic pump"
   ]
  },
  {
   "cell_type": "code",
   "execution_count": null,
   "id": "96fffeff",
   "metadata": {},
   "outputs": [],
   "source": [
    "balance_port = 'COM8'\n",
    "pump_port = 'COM9'"
   ]
  },
  {
   "cell_type": "markdown",
   "id": "6830d372",
   "metadata": {},
   "source": [
    "### 2. Balance Control"
   ]
  },
  {
   "cell_type": "code",
   "execution_count": null,
   "id": "d174a226",
   "metadata": {},
   "outputs": [],
   "source": [
    "def get_mass(port):\n",
    "    try:\n",
    "        balance = serial.Serial(port, 9600, xonxoff=True) # check COM port and xonxoff (handshake) = True default for MT balance\n",
    "        balance.write('SI\\r\\n'.encode('utf-8')) # sent immediate weight vs. 'S\\r\\n' send stable weight only\n",
    "        time.sleep(0.4) # sleep for 0.4 seconds - time between writing and reading from balance\n",
    "        result  = balance.read_until('\\r\\n'.encode('utf-8')) # read until <CR><LF>, i.e., full response\n",
    "        value = str(result[7:14].decode(\"utf-8\")) # strip numerical result from raw output\n",
    "        balance.close()\n",
    "        if (value.strip() != '-------') and (value.strip() != ''):\n",
    "            return (True,float(value)) # return a status T vs. F, in addition to the mass reading - useful for future steps (data logging)\n",
    "        return (False,-1)\n",
    "    except:\n",
    "        return (False,-1)"
   ]
  },
  {
   "cell_type": "markdown",
   "id": "fa8aea30",
   "metadata": {},
   "source": [
    "### 3. Pump Control"
   ]
  },
  {
   "cell_type": "code",
   "execution_count": 4,
   "id": "5dd12b63",
   "metadata": {},
   "outputs": [],
   "source": [
    "from PeriPump import RegloICC\n",
    "pump = RegloICC(pump_port) # initialise pump "
   ]
  },
  {
   "cell_type": "markdown",
   "id": "4e423348",
   "metadata": {},
   "source": [
    "The available functions from the pump class are `start_channel`, `stop_channel`, `set_direction`, `get_direction`, `set_speed`, `get_speed`, `set_mode` ,`get_mode`."
   ]
  },
  {
   "cell_type": "code",
   "execution_count": null,
   "id": "a0d163e4",
   "metadata": {},
   "outputs": [],
   "source": [
    "# Example pump commands\n",
    "\n",
    "# ### Set the rotation direction of channel 3 to clockwise\n",
    "# pump.set_direction(3, 0)\n",
    "\n",
    "# ### Get the rotation direction of channel 3\n",
    "# print(pump.get_direction(3))\n",
    "\n",
    "# ### Set the operational mode of channel 3 to RPM\n",
    "# pump.set_mode(3, 0)\n",
    "\n",
    "# ### Get the current operational mode of channel 3\n",
    "# print(pump.get_mode(3))\n",
    "\n",
    "\n",
    "# ### Get the current speed setting of channel 3\n",
    "# print(pump.get_speed(3))\n",
    "\n",
    "### Set the independent channel speeds\n",
    "# pump.set_speed(1, 50)\n",
    "# pump.set_speed(2, 100) # max speed 100 RPM\n",
    "# pump.set_speed(3, 100) # max speed 100 RPM\n",
    "# pump.set_speed(4, 50)\n",
    "\n",
    "# pump.start_channel(1)\n",
    "# pump.start_channel(2)\n",
    "# pump.start_channel(3)\n",
    "# pump.start_channel(4)\n",
    "\n",
    "# ### Stop channel 3\n",
    "# pump.stop_channel(3)\n",
    "\n",
    "# ### Delete the pump object\n",
    "# del pump"
   ]
  },
  {
   "cell_type": "markdown",
   "id": "86338572",
   "metadata": {},
   "source": [
    "### 4. AutoDose Programme"
   ]
  },
  {
   "cell_type": "code",
   "execution_count": 17,
   "id": "dbb8fb98",
   "metadata": {},
   "outputs": [],
   "source": [
    "# Map ingredients to pump channels\n",
    "\n",
    "pump_dict = {'SLES':1,\n",
    "            'CAPB': 2, \n",
    "            'Water': 3,\n",
    "            None:4}"
   ]
  },
  {
   "cell_type": "code",
   "execution_count": 8,
   "id": "6b75e535",
   "metadata": {},
   "outputs": [],
   "source": [
    "def dose_ingredient(ing, amt, balance_port, pump_speed=100):\n",
    "    '''\n",
    "    Insert doc string. \n",
    "    '''\n",
    "    t = [0]  # time \n",
    "    m = [get_mass(balance_port)[1]] # mass - initialise with initial mass\n",
    "    # NB. get_mass returns tuple (STATUS, MASS), therefore, [1] to access mass value.\n",
    "\n",
    "    i = 0 # initialise counter\n",
    "\n",
    "    channel = pump_dict[ing]\n",
    "    pump.set_speed(channel, pump_speed) # max speed = 100 RPM\n",
    "\n",
    "    while m[-1] < m[0] + amt:\n",
    "\n",
    "        # Turn on and keep the pump going till the target amount is reached.\n",
    "        \n",
    "        pump.start_channel(channel)\n",
    "\n",
    "        status, val = get_mass(balance_port)\n",
    "        if status:\n",
    "            curr_val = val\n",
    "        else:\n",
    "            curr_val = m[-1] \n",
    "        m.append(curr_val)\n",
    "\n",
    "        i += 1\n",
    "        t.append(i*0.5) # 0.4 s sleep time between reading & writing to balance + 0.1 s execution lag\n",
    "        # NB. Therefore, mass is recorded every 0.5 seconds.\n",
    "\n",
    "    pump.stop_channel(channel)\n",
    "\n",
    "    disp_m = m[-1] - m[0]\n",
    "    acc = np.round((np.absolute(disp_m - amt)/amt)*100,2)\n",
    "\n",
    "    return np.round(disp_m,2), acc, m, t"
   ]
  },
  {
   "cell_type": "code",
   "execution_count": 18,
   "id": "55dc1a41",
   "metadata": {},
   "outputs": [
    {
     "name": "stdout",
     "output_type": "stream",
     "text": [
      "5.03 0.6\n"
     ]
    }
   ],
   "source": [
    "disp_m, acc, m, t = dose_ingredient('SLES', 5, balance_port)\n",
    "print(disp_m, acc)"
   ]
  },
  {
   "cell_type": "code",
   "execution_count": 19,
   "id": "ade4c833",
   "metadata": {},
   "outputs": [
    {
     "data": {
      "image/png": "[encoded data removed]",
      "text/plain": [
       "<Figure size 640x480 with 1 Axes>"
      ]
     },
     "metadata": {},
     "output_type": "display_data"
    }
   ],
   "source": [
    "plt.plot(t, m);\n",
    "plt.xlabel('Time/seconds');\n",
    "plt.ylabel('Mass/g');"
   ]
  },
  {
   "cell_type": "markdown",
   "id": "51118bef",
   "metadata": {},
   "source": [
    "#### Limitations\n",
    "\n",
    "* Speed/time to dispense viscous ingredients.\n",
    "* Cleaning of lines - recommend not changing lines on core viscous materials or replacing tubing as required."
   ]
  }
 ],
 "metadata": {
  "kernelspec": {
   "display_name": "autodose-env",
   "language": "python",
   "name": "python3"
  },
  "language_info": {
   "codemirror_mode": {
    "name": "ipython",
    "version": 3
   },
   "file_extension": ".py",
   "mimetype": "text/x-python",
   "name": "python",
   "nbconvert_exporter": "python",
   "pygments_lexer": "ipython3",
   "version": "3.10.5"
  }
 },
 "nbformat": 4,
 "nbformat_minor": 5
}
