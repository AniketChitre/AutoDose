{
 "cells": [
  {
   "cell_type": "code",
   "execution_count": 1,
   "id": "19bf18d9",
   "metadata": {},
   "outputs": [],
   "source": [
    "import pandas as pd\n",
    "import numpy as np\n",
    "import time\n",
    "import serial\n",
    "# import csv"
   ]
  },
  {
   "cell_type": "markdown",
   "id": "6e814e13",
   "metadata": {},
   "source": [
    "# 1. Declare COM ports\n",
    "\n",
    "**Balance:** Sartorius ED6202S-CW"
   ]
  },
  {
   "cell_type": "code",
   "execution_count": 2,
   "id": "96fffeff",
   "metadata": {},
   "outputs": [],
   "source": [
    "balance_port = 'COM5'\n",
    "pump_port = 'COM9'"
   ]
  },
  {
   "cell_type": "markdown",
   "id": "6830d372",
   "metadata": {},
   "source": [
    "# 2. Balance Control"
   ]
  },
  {
   "cell_type": "code",
   "execution_count": 3,
   "id": "eb8adbf5",
   "metadata": {},
   "outputs": [],
   "source": [
    "from SartoriusBalance import Sartorius\n",
    "\n",
    "balance = Sartorius(balance_port)"
   ]
  },
  {
   "cell_type": "code",
   "execution_count": 4,
   "id": "9e006f87",
   "metadata": {},
   "outputs": [
    {
     "name": "stdout",
     "output_type": "stream",
     "text": [
      "Bytes waiting: 0\n",
      "Raw response: b''\n",
      "Decoded: \n"
     ]
    }
   ],
   "source": [
    "balance.test_connection()"
   ]
  },
  {
   "cell_type": "code",
   "execution_count": null,
   "id": "ab44541d",
   "metadata": {},
   "outputs": [
    {
     "name": "stdout",
     "output_type": "stream",
     "text": [
      "Response: \n"
     ]
    }
   ],
   "source": [
    "# import serial\n",
    "\n",
    "# # Replace with your serial port and baud rate\n",
    "# ser = serial.Serial(port=balance_port, baudrate=9600, timeout=1)\n",
    "\n",
    "# # Send command to get weight (check your balance's manual for commands)\n",
    "# ser.write(b'P\\r\\n')  # Example command\n",
    "# response = ser.readline().decode('utf-8').strip()\n",
    "# print(f\"Response: {response}\")\n",
    "\n",
    "# ser.close()"
   ]
  },
  {
   "cell_type": "code",
   "execution_count": null,
   "id": "ca5abfbd",
   "metadata": {},
   "outputs": [],
   "source": [
    "# import serial\n",
    "# import time\n",
    "\n",
    "# def get_stable_mass(port):\n",
    "#     \"\"\"\n",
    "#     Connects to a Sartorius ED6202S-CW balance via RS232 and returns the stable mass reading.\n",
    "    \n",
    "#     Parameters:\n",
    "#         port (str): The COM port to which the balance is connected (e.g., 'COM4')\n",
    "    \n",
    "#     Returns:\n",
    "#         str: The stable mass reading from the balance\n",
    "#     \"\"\"\n",
    "#     try:\n",
    "#         ser = serial.Serial(\n",
    "#             port=port,\n",
    "#             baudrate=9600,\n",
    "#             bytesize=serial.SEVENBITS,\n",
    "#             parity=serial.PARITY_NONE,\n",
    "#             stopbits=serial.STOPBITS_ONE,\n",
    "#             timeout=1,\n",
    "#             xonxoff=True,     # Software handshake disabled\n",
    "#             rtscts=False,      # Hardware handshake disabled\n",
    "#             dsrdtr=False       # DSR/DTR handshake disabled\n",
    "#         )\n",
    "\n",
    "#         ser.reset_input_buffer()\n",
    "\n",
    "#         ser.write(b'P\\r\\n')\n",
    "\n",
    "#         response = ser.readline().decode('utf-8')\n",
    "#         ser.close()\n",
    "\n",
    "#         return response if response else \"No response received.\"\n",
    "\n",
    "#     except serial.SerialException as e:\n",
    "#         return f\"Serial error: {e}\"\n",
    "#     except Exception as e:\n",
    "#         return f\"Error: {e}\""
   ]
  },
  {
   "cell_type": "code",
   "execution_count": null,
   "id": "d174a226",
   "metadata": {},
   "outputs": [],
   "source": [
    "# for reference from MT balance \n",
    "\n",
    "# def get_mass(port):\n",
    "#     try:\n",
    "#         balance = serial.Serial(port, 9600, xonxoff=True) # check COM port and xonxoff (handshake) = True default for MT balance\n",
    "#         balance.write('S\\r\\n'.encode('utf-8'))\n",
    "#         time.sleep(1)\n",
    "#         result  = balance.read_until('\\r\\n'.encode('utf-8'))\n",
    "#         value = str(result[7:14].decode(\"utf-8\"))\n",
    "#         #balance.close()\n",
    "#         if (value.strip() != '-------') and (value.strip() != ''):\n",
    "#             return (True,float(value))\n",
    "#         return (False,-1)\n",
    "#     except:\n",
    "#         return (False,-1)"
   ]
  },
  {
   "cell_type": "markdown",
   "id": "fa8aea30",
   "metadata": {},
   "source": [
    "# 3. Pump Control"
   ]
  },
  {
   "cell_type": "code",
   "execution_count": null,
   "id": "5dd12b63",
   "metadata": {},
   "outputs": [],
   "source": [
    "from PeriPump import RegloICC\n",
    "\n",
    "### Initialize the pump with the specified COM port\n",
    "pump = RegloICC(pump_port)"
   ]
  },
  {
   "cell_type": "markdown",
   "id": "4e423348",
   "metadata": {},
   "source": [
    "The available functions from the pump class are `start_channel`, `stop_channel`, `set_direction`, `get_direction`, `set_speed`, `get_speed`, `set_mode` ,`get_mode`"
   ]
  },
  {
   "cell_type": "code",
   "execution_count": null,
   "id": "a0d163e4",
   "metadata": {},
   "outputs": [
    {
     "data": {
      "text/plain": [
       "'*'"
      ]
     },
     "execution_count": 7,
     "metadata": {},
     "output_type": "execute_result"
    }
   ],
   "source": [
    "# ### Get the rotation direction of channel 3\n",
    "# print(pump.get_direction(3))\n",
    "\n",
    "# ### Set the rotation direction of channel 3 to clockwise\n",
    "# pump.set_direction(3, 0)\n",
    "\n",
    "# ### Get the current operational mode of channel 3\n",
    "# print(pump.get_mode(3))\n",
    "\n",
    "# ### Set the operational mode of channel 3 to RPM\n",
    "# pump.set_mode(3, 0)\n",
    "\n",
    "# ### Get the current speed setting of channel 3\n",
    "# print(pump.get_speed(3))\n",
    "\n",
    "### Set the independent channel speeds\n",
    "# pump.set_speed(1, 12)\n",
    "pump.set_speed(2, 100)\n",
    "pump.set_speed(3, 100)\n",
    "# pump.set_speed(4, 96)\n",
    "\n",
    "# pump.start_channel(1)\n",
    "# pump.start_channel(2)\n",
    "# pump.start_channel(3)\n",
    "# pump.start_channel(4)\n",
    "\n",
    "# ### Stop channel 3\n",
    "# pump.stop_channel(3)\n",
    "\n",
    "# ### Delete the pump object\n",
    "# del pump"
   ]
  },
  {
   "cell_type": "code",
   "execution_count": null,
   "id": "33d2870a",
   "metadata": {},
   "outputs": [
    {
     "data": {
      "text/plain": [
       "'*'"
      ]
     },
     "execution_count": 5,
     "metadata": {},
     "output_type": "execute_result"
    }
   ],
   "source": [
    "pump.stop_channel(2)\n",
    "pump.stop_channel(3)"
   ]
  },
  {
   "cell_type": "code",
   "execution_count": null,
   "id": "685f5db3",
   "metadata": {},
   "outputs": [
    {
     "data": {
      "text/plain": [
       "'*'"
      ]
     },
     "execution_count": 10,
     "metadata": {},
     "output_type": "execute_result"
    }
   ],
   "source": [
    "# pump.start_channel(1)\n",
    "pump.stop_channel(2)\n",
    "pump.stop_channel(3)\n",
    "# pump.stop_channel(4)"
   ]
  },
  {
   "cell_type": "code",
   "execution_count": null,
   "id": "d4149e36",
   "metadata": {},
   "outputs": [
    {
     "name": "stdout",
     "output_type": "stream",
     "text": [
      "L\n",
      "\n",
      "48.00\n",
      "\n"
     ]
    },
    {
     "data": {
      "text/plain": [
       "'*'"
      ]
     },
     "execution_count": 8,
     "metadata": {},
     "output_type": "execute_result"
    }
   ],
   "source": [
    "### Start channel 3\n",
    "pump.start_channel(3)\n",
    "\n",
    "\n",
    "\n",
    "\n",
    "\n",
    "### Get the current operational mode of channel 3\n",
    "print(pump.get_mode(3))\n",
    "\n",
    "### Set the operational mode of channel 3 to RPM\n",
    "pump.set_mode(3, 0)\n",
    "\n",
    "### Get the current speed setting of channel 3\n",
    "print(pump.get_speed(3))\n",
    "\n",
    "### Set the setting speed of channel 3 to 24 RPM\n",
    "pump.set_speed(3, 24)\n",
    "\n",
    "# ### Stop channel 3\n",
    "# pump.stop_channel(3)\n",
    "\n",
    "# ### Delete the pump object\n",
    "# del pump"
   ]
  },
  {
   "cell_type": "code",
   "execution_count": null,
   "id": "04a86b1b",
   "metadata": {},
   "outputs": [
    {
     "data": {
      "text/plain": [
       "'#'"
      ]
     },
     "execution_count": 9,
     "metadata": {},
     "output_type": "execute_result"
    }
   ],
   "source": [
    "\n",
    "\n",
    "### Set the setting speed of channel 3 to 24 RPM\n",
    "pump.set_speed(3, 96)\n",
    "\n",
    "\n",
    "pump.start_channel(3)"
   ]
  },
  {
   "cell_type": "code",
   "execution_count": null,
   "id": "a6ec048a",
   "metadata": {},
   "outputs": [
    {
     "data": {
      "text/plain": [
       "'*'"
      ]
     },
     "execution_count": 10,
     "metadata": {},
     "output_type": "execute_result"
    }
   ],
   "source": [
    "pump.stop_channel(3)"
   ]
  },
  {
   "cell_type": "code",
   "execution_count": null,
   "id": "758f1a01",
   "metadata": {},
   "outputs": [],
   "source": []
  }
 ],
 "metadata": {
  "kernelspec": {
   "display_name": "autodose-env",
   "language": "python",
   "name": "python3"
  },
  "language_info": {
   "codemirror_mode": {
    "name": "ipython",
    "version": 3
   },
   "file_extension": ".py",
   "mimetype": "text/x-python",
   "name": "python",
   "nbconvert_exporter": "python",
   "pygments_lexer": "ipython3",
   "version": "3.10.5"
  }
 },
 "nbformat": 4,
 "nbformat_minor": 5
}
